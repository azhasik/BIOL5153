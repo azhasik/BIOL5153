{
 "cells": [
  {
   "cell_type": "code",
   "execution_count": 3,
   "metadata": {
    "collapsed": true
   },
   "outputs": [],
   "source": [
    "numbers=[0,1,2,3,4,5,6,7]"
   ]
  },
  {
   "cell_type": "raw",
   "metadata": {},
   "source": []
  },
  {
   "cell_type": "code",
   "execution_count": 7,
   "metadata": {
    "collapsed": false
   },
   "outputs": [
    {
     "name": "stdout",
     "output_type": "stream",
     "text": [
      "[0, 1, 2]\n",
      "[3, 4, 5]\n",
      "[5, 6, 7]\n",
      "[0, 1]\n"
     ]
    }
   ],
   "source": [
    "print(numbers[:3])\n",
    "print(numbers[3:6])\n",
    "print(numbers[5:8])\n",
    "print(numbers[:2])"
   ]
  },
  {
   "cell_type": "code",
   "execution_count": 22,
   "metadata": {
    "collapsed": false
   },
   "outputs": [],
   "source": [
    "gene=\"ATGCCAGTttccggaaGTTCTAA\""
   ]
  },
  {
   "cell_type": "code",
   "execution_count": 27,
   "metadata": {
    "collapsed": false
   },
   "outputs": [
    {
     "name": "stdout",
     "output_type": "stream",
     "text": [
      "ATGCCAGT\n",
      "ttccggaa\n",
      "GTTCTAA\n",
      "2\n",
      "23\n"
     ]
    }
   ],
   "source": [
    "print(gene[:8])\n",
    "print(gene[8:16])\n",
    "print(gene[16:])\n",
    "gene_length=len(gene)\n",
    "#find out the length by dividing the entire thing by 3\n",
    "print(gene_length%3)\n",
    "print(gene_length)"
   ]
  },
  {
   "cell_type": "code",
   "execution_count": null,
   "metadata": {
    "collapsed": true
   },
   "outputs": [],
   "source": []
  }
 ],
 "metadata": {
  "kernelspec": {
   "display_name": "Python 3",
   "language": "python",
   "name": "python3"
  },
  "language_info": {
   "codemirror_mode": {
    "name": "ipython",
    "version": 3
   },
   "file_extension": ".py",
   "mimetype": "text/x-python",
   "name": "python",
   "nbconvert_exporter": "python",
   "pygments_lexer": "ipython3",
   "version": "3.6.0"
  }
 },
 "nbformat": 4,
 "nbformat_minor": 2
}
